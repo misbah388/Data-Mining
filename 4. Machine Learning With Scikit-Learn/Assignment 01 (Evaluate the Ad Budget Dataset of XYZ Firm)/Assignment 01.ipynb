{
 "cells": [
  {
   "cell_type": "markdown",
   "metadata": {
    "id": "u9QZ_C_quvq-"
   },
   "source": [
    "\n",
    "# Assignment 01: Evaluate the Ad Budget Dataset of XYZ Firm\n",
    "\n",
    "\n",
    "**Happy coding!**\n",
    "\n",
    "* * *"
   ]
  },
  {
   "cell_type": "code",
   "execution_count": 11,
   "metadata": {
    "colab": {
     "base_uri": "https://localhost:8080/"
    },
    "executionInfo": {
     "elapsed": 5587,
     "status": "ok",
     "timestamp": 1640682084564,
     "user": {
      "displayName": "SHIRSENDU KONER",
      "photoUrl": "https://lh3.googleusercontent.com/a-/AOh14GhJ1OfhDRxf1xUH2W5jAzLpuf7lkDCJ-340fmzb4g=s64",
      "userId": "01959578303181808026"
     },
     "user_tz": -330
    },
    "id": "dVjvOBORu7sw",
    "outputId": "e5160fdd-627b-455b-b111-f118226a7df9"
   },
   "outputs": [
    {
     "name": "stdout",
     "output_type": "stream",
     "text": [
      "Drive already mounted at /content/drive; to attempt to forcibly remount, call drive.mount(\"/content/drive\", force_remount=True).\n"
     ]
    }
   ],
   "source": [
    "from google.colab import drive\n",
    "drive.mount('/content/drive')"
   ]
  },
  {
   "cell_type": "markdown",
   "metadata": {
    "id": "SuRSEpyUuvrQ"
   },
   "source": [
    "#### 1: Import the dataset"
   ]
  },
  {
   "cell_type": "code",
   "execution_count": 12,
   "metadata": {
    "collapsed": true,
    "executionInfo": {
     "elapsed": 49,
     "status": "ok",
     "timestamp": 1640682084565,
     "user": {
      "displayName": "SHIRSENDU KONER",
      "photoUrl": "https://lh3.googleusercontent.com/a-/AOh14GhJ1OfhDRxf1xUH2W5jAzLpuf7lkDCJ-340fmzb4g=s64",
      "userId": "01959578303181808026"
     },
     "user_tz": -330
    },
    "id": "3TA29_X3uvrT"
   },
   "outputs": [],
   "source": [
    "#Import the required libraries\n",
    "import pandas as pd\n",
    "import numpy as np\n",
    "from sklearn.linear_model import LinearRegression\n",
    "from sklearn.model_selection import train_test_split\n",
    "from sklearn.metrics import mean_squared_error"
   ]
  },
  {
   "cell_type": "code",
   "execution_count": 13,
   "metadata": {
    "executionInfo": {
     "elapsed": 48,
     "status": "ok",
     "timestamp": 1640682084565,
     "user": {
      "displayName": "SHIRSENDU KONER",
      "photoUrl": "https://lh3.googleusercontent.com/a-/AOh14GhJ1OfhDRxf1xUH2W5jAzLpuf7lkDCJ-340fmzb4g=s64",
      "userId": "01959578303181808026"
     },
     "user_tz": -330
    },
    "id": "FFx8RsYLuvrY"
   },
   "outputs": [],
   "source": [
    "#Import the advertising dataset\n",
    "dataset = pd.read_csv('Advertising Budget and Sales.csv', index_col=0)"
   ]
  },
  {
   "cell_type": "markdown",
   "metadata": {
    "id": "UG9pgnx7uvra"
   },
   "source": [
    "#### 2: Analyze the dataset"
   ]
  },
  {
   "cell_type": "code",
   "execution_count": 14,
   "metadata": {
    "colab": {
     "base_uri": "https://localhost:8080/",
     "height": 206
    },
    "executionInfo": {
     "elapsed": 47,
     "status": "ok",
     "timestamp": 1640682084565,
     "user": {
      "displayName": "SHIRSENDU KONER",
      "photoUrl": "https://lh3.googleusercontent.com/a-/AOh14GhJ1OfhDRxf1xUH2W5jAzLpuf7lkDCJ-340fmzb4g=s64",
      "userId": "01959578303181808026"
     },
     "user_tz": -330
    },
    "id": "X5twZN2Yuvrb",
    "outputId": "288e8484-9564-4404-9449-f9df6dabc812",
    "scrolled": true
   },
   "outputs": [
    {
     "data": {
      "text/html": [
       "\n",
       "  <div id=\"df-fd677226-7f99-4b7c-8b0b-cb5a7dd2b5f0\">\n",
       "    <div class=\"colab-df-container\">\n",
       "      <div>\n",
       "<style scoped>\n",
       "    .dataframe tbody tr th:only-of-type {\n",
       "        vertical-align: middle;\n",
       "    }\n",
       "\n",
       "    .dataframe tbody tr th {\n",
       "        vertical-align: top;\n",
       "    }\n",
       "\n",
       "    .dataframe thead th {\n",
       "        text-align: right;\n",
       "    }\n",
       "</style>\n",
       "<table border=\"1\" class=\"dataframe\">\n",
       "  <thead>\n",
       "    <tr style=\"text-align: right;\">\n",
       "      <th></th>\n",
       "      <th>TV Ad Budget ($)</th>\n",
       "      <th>Radio Ad Budget ($)</th>\n",
       "      <th>Newspaper Ad Budget ($)</th>\n",
       "      <th>Sales ($)</th>\n",
       "    </tr>\n",
       "  </thead>\n",
       "  <tbody>\n",
       "    <tr>\n",
       "      <th>1</th>\n",
       "      <td>230.1</td>\n",
       "      <td>37.8</td>\n",
       "      <td>69.2</td>\n",
       "      <td>22.1</td>\n",
       "    </tr>\n",
       "    <tr>\n",
       "      <th>2</th>\n",
       "      <td>44.5</td>\n",
       "      <td>39.3</td>\n",
       "      <td>45.1</td>\n",
       "      <td>10.4</td>\n",
       "    </tr>\n",
       "    <tr>\n",
       "      <th>3</th>\n",
       "      <td>17.2</td>\n",
       "      <td>45.9</td>\n",
       "      <td>69.3</td>\n",
       "      <td>9.3</td>\n",
       "    </tr>\n",
       "    <tr>\n",
       "      <th>4</th>\n",
       "      <td>151.5</td>\n",
       "      <td>41.3</td>\n",
       "      <td>58.5</td>\n",
       "      <td>18.5</td>\n",
       "    </tr>\n",
       "    <tr>\n",
       "      <th>5</th>\n",
       "      <td>180.8</td>\n",
       "      <td>10.8</td>\n",
       "      <td>58.4</td>\n",
       "      <td>12.9</td>\n",
       "    </tr>\n",
       "  </tbody>\n",
       "</table>\n",
       "</div>\n",
       "      <button class=\"colab-df-convert\" onclick=\"convertToInteractive('df-fd677226-7f99-4b7c-8b0b-cb5a7dd2b5f0')\"\n",
       "              title=\"Convert this dataframe to an interactive table.\"\n",
       "              style=\"display:none;\">\n",
       "        \n",
       "  <svg xmlns=\"http://www.w3.org/2000/svg\" height=\"24px\"viewBox=\"0 0 24 24\"\n",
       "       width=\"24px\">\n",
       "    <path d=\"M0 0h24v24H0V0z\" fill=\"none\"/>\n",
       "    <path d=\"M18.56 5.44l.94 2.06.94-2.06 2.06-.94-2.06-.94-.94-2.06-.94 2.06-2.06.94zm-11 1L8.5 8.5l.94-2.06 2.06-.94-2.06-.94L8.5 2.5l-.94 2.06-2.06.94zm10 10l.94 2.06.94-2.06 2.06-.94-2.06-.94-.94-2.06-.94 2.06-2.06.94z\"/><path d=\"M17.41 7.96l-1.37-1.37c-.4-.4-.92-.59-1.43-.59-.52 0-1.04.2-1.43.59L10.3 9.45l-7.72 7.72c-.78.78-.78 2.05 0 2.83L4 21.41c.39.39.9.59 1.41.59.51 0 1.02-.2 1.41-.59l7.78-7.78 2.81-2.81c.8-.78.8-2.07 0-2.86zM5.41 20L4 18.59l7.72-7.72 1.47 1.35L5.41 20z\"/>\n",
       "  </svg>\n",
       "      </button>\n",
       "      \n",
       "  <style>\n",
       "    .colab-df-container {\n",
       "      display:flex;\n",
       "      flex-wrap:wrap;\n",
       "      gap: 12px;\n",
       "    }\n",
       "\n",
       "    .colab-df-convert {\n",
       "      background-color: #E8F0FE;\n",
       "      border: none;\n",
       "      border-radius: 50%;\n",
       "      cursor: pointer;\n",
       "      display: none;\n",
       "      fill: #1967D2;\n",
       "      height: 32px;\n",
       "      padding: 0 0 0 0;\n",
       "      width: 32px;\n",
       "    }\n",
       "\n",
       "    .colab-df-convert:hover {\n",
       "      background-color: #E2EBFA;\n",
       "      box-shadow: 0px 1px 2px rgba(60, 64, 67, 0.3), 0px 1px 3px 1px rgba(60, 64, 67, 0.15);\n",
       "      fill: #174EA6;\n",
       "    }\n",
       "\n",
       "    [theme=dark] .colab-df-convert {\n",
       "      background-color: #3B4455;\n",
       "      fill: #D2E3FC;\n",
       "    }\n",
       "\n",
       "    [theme=dark] .colab-df-convert:hover {\n",
       "      background-color: #434B5C;\n",
       "      box-shadow: 0px 1px 3px 1px rgba(0, 0, 0, 0.15);\n",
       "      filter: drop-shadow(0px 1px 2px rgba(0, 0, 0, 0.3));\n",
       "      fill: #FFFFFF;\n",
       "    }\n",
       "  </style>\n",
       "\n",
       "      <script>\n",
       "        const buttonEl =\n",
       "          document.querySelector('#df-fd677226-7f99-4b7c-8b0b-cb5a7dd2b5f0 button.colab-df-convert');\n",
       "        buttonEl.style.display =\n",
       "          google.colab.kernel.accessAllowed ? 'block' : 'none';\n",
       "\n",
       "        async function convertToInteractive(key) {\n",
       "          const element = document.querySelector('#df-fd677226-7f99-4b7c-8b0b-cb5a7dd2b5f0');\n",
       "          const dataTable =\n",
       "            await google.colab.kernel.invokeFunction('convertToInteractive',\n",
       "                                                     [key], {});\n",
       "          if (!dataTable) return;\n",
       "\n",
       "          const docLinkHtml = 'Like what you see? Visit the ' +\n",
       "            '<a target=\"_blank\" href=https://colab.research.google.com/notebooks/data_table.ipynb>data table notebook</a>'\n",
       "            + ' to learn more about interactive tables.';\n",
       "          element.innerHTML = '';\n",
       "          dataTable['output_type'] = 'display_data';\n",
       "          await google.colab.output.renderOutput(dataTable, element);\n",
       "          const docLink = document.createElement('div');\n",
       "          docLink.innerHTML = docLinkHtml;\n",
       "          element.appendChild(docLink);\n",
       "        }\n",
       "      </script>\n",
       "    </div>\n",
       "  </div>\n",
       "  "
      ],
      "text/plain": [
       "   TV Ad Budget ($)  Radio Ad Budget ($)  Newspaper Ad Budget ($)  Sales ($)\n",
       "1             230.1                 37.8                     69.2       22.1\n",
       "2              44.5                 39.3                     45.1       10.4\n",
       "3              17.2                 45.9                     69.3        9.3\n",
       "4             151.5                 41.3                     58.5       18.5\n",
       "5             180.8                 10.8                     58.4       12.9"
      ]
     },
     "execution_count": 14,
     "metadata": {},
     "output_type": "execute_result"
    }
   ],
   "source": [
    "#View the initial few records of the dataset\n",
    "dataset.head()"
   ]
  },
  {
   "cell_type": "code",
   "execution_count": 15,
   "metadata": {
    "colab": {
     "base_uri": "https://localhost:8080/"
    },
    "executionInfo": {
     "elapsed": 47,
     "status": "ok",
     "timestamp": 1640682084566,
     "user": {
      "displayName": "SHIRSENDU KONER",
      "photoUrl": "https://lh3.googleusercontent.com/a-/AOh14GhJ1OfhDRxf1xUH2W5jAzLpuf7lkDCJ-340fmzb4g=s64",
      "userId": "01959578303181808026"
     },
     "user_tz": -330
    },
    "id": "_iUmf4jFuvrd",
    "outputId": "f6886e35-fe8b-4437-e3b0-343acd15b682"
   },
   "outputs": [
    {
     "data": {
      "text/plain": [
       "800"
      ]
     },
     "execution_count": 15,
     "metadata": {},
     "output_type": "execute_result"
    }
   ],
   "source": [
    "#Check the total number of elements in the dataset\n",
    "\n",
    "dataset.size"
   ]
  },
  {
   "cell_type": "markdown",
   "metadata": {
    "id": "Q9eWyZ1tuvrg"
   },
   "source": [
    "#### 3: Find the features or media channels used by the firm"
   ]
  },
  {
   "cell_type": "code",
   "execution_count": 16,
   "metadata": {
    "colab": {
     "base_uri": "https://localhost:8080/"
    },
    "executionInfo": {
     "elapsed": 44,
     "status": "ok",
     "timestamp": 1640682084566,
     "user": {
      "displayName": "SHIRSENDU KONER",
      "photoUrl": "https://lh3.googleusercontent.com/a-/AOh14GhJ1OfhDRxf1xUH2W5jAzLpuf7lkDCJ-340fmzb4g=s64",
      "userId": "01959578303181808026"
     },
     "user_tz": -330
    },
    "id": "E-NKA9SHuvrj",
    "outputId": "bd6aec04-ad13-4d5b-9abc-1fabab739d1d"
   },
   "outputs": [
    {
     "data": {
      "text/plain": [
       "(200, 4)"
      ]
     },
     "execution_count": 16,
     "metadata": {},
     "output_type": "execute_result"
    }
   ],
   "source": [
    "#Check the number of observations (rows) and attributes (columns) in the dataset\n",
    "dataset.shape"
   ]
  },
  {
   "cell_type": "code",
   "execution_count": 17,
   "metadata": {
    "colab": {
     "base_uri": "https://localhost:8080/"
    },
    "executionInfo": {
     "elapsed": 43,
     "status": "ok",
     "timestamp": 1640682084566,
     "user": {
      "displayName": "SHIRSENDU KONER",
      "photoUrl": "https://lh3.googleusercontent.com/a-/AOh14GhJ1OfhDRxf1xUH2W5jAzLpuf7lkDCJ-340fmzb4g=s64",
      "userId": "01959578303181808026"
     },
     "user_tz": -330
    },
    "id": "puQQlqxUuvrm",
    "outputId": "1bd450d0-d8d4-423e-9922-5a84484ea892"
   },
   "outputs": [
    {
     "data": {
      "text/plain": [
       "Index(['TV Ad Budget ($)', 'Radio Ad Budget ($)', 'Newspaper Ad Budget ($)',\n",
       "       'Sales ($)'],\n",
       "      dtype='object')"
      ]
     },
     "execution_count": 17,
     "metadata": {},
     "output_type": "execute_result"
    }
   ],
   "source": [
    "#View the names of each of the attributes\n",
    "dataset.columns"
   ]
  },
  {
   "cell_type": "markdown",
   "metadata": {
    "id": "M5r2iiLauvro"
   },
   "source": [
    "#### 4: Create objects to train and test the model; find the sales figures for each channel"
   ]
  },
  {
   "cell_type": "code",
   "execution_count": 38,
   "metadata": {
    "executionInfo": {
     "elapsed": 555,
     "status": "ok",
     "timestamp": 1640682225087,
     "user": {
      "displayName": "SHIRSENDU KONER",
      "photoUrl": "https://lh3.googleusercontent.com/a-/AOh14GhJ1OfhDRxf1xUH2W5jAzLpuf7lkDCJ-340fmzb4g=s64",
      "userId": "01959578303181808026"
     },
     "user_tz": -330
    },
    "id": "S_X6Py5yuvrp"
   },
   "outputs": [],
   "source": [
    "#Create a feature object from the columns\n",
    "feature_names = ['TV Ad Budget ($)', 'Radio Ad Budget ($)', 'Newspaper Ad Budget ($)']\n",
    "features = dataset[feature_names]"
   ]
  },
  {
   "cell_type": "code",
   "execution_count": 39,
   "metadata": {
    "colab": {
     "base_uri": "https://localhost:8080/",
     "height": 423
    },
    "executionInfo": {
     "elapsed": 813,
     "status": "ok",
     "timestamp": 1640682229462,
     "user": {
      "displayName": "SHIRSENDU KONER",
      "photoUrl": "https://lh3.googleusercontent.com/a-/AOh14GhJ1OfhDRxf1xUH2W5jAzLpuf7lkDCJ-340fmzb4g=s64",
      "userId": "01959578303181808026"
     },
     "user_tz": -330
    },
    "id": "91STU5Kyuvrr",
    "outputId": "ef0b986a-ae1e-45a5-aea7-073f0f3f7bbe"
   },
   "outputs": [
    {
     "data": {
      "text/html": [
       "\n",
       "  <div id=\"df-4ed61fbe-849f-45c0-8ec1-5595416905df\">\n",
       "    <div class=\"colab-df-container\">\n",
       "      <div>\n",
       "<style scoped>\n",
       "    .dataframe tbody tr th:only-of-type {\n",
       "        vertical-align: middle;\n",
       "    }\n",
       "\n",
       "    .dataframe tbody tr th {\n",
       "        vertical-align: top;\n",
       "    }\n",
       "\n",
       "    .dataframe thead th {\n",
       "        text-align: right;\n",
       "    }\n",
       "</style>\n",
       "<table border=\"1\" class=\"dataframe\">\n",
       "  <thead>\n",
       "    <tr style=\"text-align: right;\">\n",
       "      <th></th>\n",
       "      <th>TV Ad Budget ($)</th>\n",
       "      <th>Radio Ad Budget ($)</th>\n",
       "      <th>Newspaper Ad Budget ($)</th>\n",
       "    </tr>\n",
       "  </thead>\n",
       "  <tbody>\n",
       "    <tr>\n",
       "      <th>1</th>\n",
       "      <td>230.1</td>\n",
       "      <td>37.8</td>\n",
       "      <td>69.2</td>\n",
       "    </tr>\n",
       "    <tr>\n",
       "      <th>2</th>\n",
       "      <td>44.5</td>\n",
       "      <td>39.3</td>\n",
       "      <td>45.1</td>\n",
       "    </tr>\n",
       "    <tr>\n",
       "      <th>3</th>\n",
       "      <td>17.2</td>\n",
       "      <td>45.9</td>\n",
       "      <td>69.3</td>\n",
       "    </tr>\n",
       "    <tr>\n",
       "      <th>4</th>\n",
       "      <td>151.5</td>\n",
       "      <td>41.3</td>\n",
       "      <td>58.5</td>\n",
       "    </tr>\n",
       "    <tr>\n",
       "      <th>5</th>\n",
       "      <td>180.8</td>\n",
       "      <td>10.8</td>\n",
       "      <td>58.4</td>\n",
       "    </tr>\n",
       "    <tr>\n",
       "      <th>...</th>\n",
       "      <td>...</td>\n",
       "      <td>...</td>\n",
       "      <td>...</td>\n",
       "    </tr>\n",
       "    <tr>\n",
       "      <th>196</th>\n",
       "      <td>38.2</td>\n",
       "      <td>3.7</td>\n",
       "      <td>13.8</td>\n",
       "    </tr>\n",
       "    <tr>\n",
       "      <th>197</th>\n",
       "      <td>94.2</td>\n",
       "      <td>4.9</td>\n",
       "      <td>8.1</td>\n",
       "    </tr>\n",
       "    <tr>\n",
       "      <th>198</th>\n",
       "      <td>177.0</td>\n",
       "      <td>9.3</td>\n",
       "      <td>6.4</td>\n",
       "    </tr>\n",
       "    <tr>\n",
       "      <th>199</th>\n",
       "      <td>283.6</td>\n",
       "      <td>42.0</td>\n",
       "      <td>66.2</td>\n",
       "    </tr>\n",
       "    <tr>\n",
       "      <th>200</th>\n",
       "      <td>232.1</td>\n",
       "      <td>8.6</td>\n",
       "      <td>8.7</td>\n",
       "    </tr>\n",
       "  </tbody>\n",
       "</table>\n",
       "<p>200 rows × 3 columns</p>\n",
       "</div>\n",
       "      <button class=\"colab-df-convert\" onclick=\"convertToInteractive('df-4ed61fbe-849f-45c0-8ec1-5595416905df')\"\n",
       "              title=\"Convert this dataframe to an interactive table.\"\n",
       "              style=\"display:none;\">\n",
       "        \n",
       "  <svg xmlns=\"http://www.w3.org/2000/svg\" height=\"24px\"viewBox=\"0 0 24 24\"\n",
       "       width=\"24px\">\n",
       "    <path d=\"M0 0h24v24H0V0z\" fill=\"none\"/>\n",
       "    <path d=\"M18.56 5.44l.94 2.06.94-2.06 2.06-.94-2.06-.94-.94-2.06-.94 2.06-2.06.94zm-11 1L8.5 8.5l.94-2.06 2.06-.94-2.06-.94L8.5 2.5l-.94 2.06-2.06.94zm10 10l.94 2.06.94-2.06 2.06-.94-2.06-.94-.94-2.06-.94 2.06-2.06.94z\"/><path d=\"M17.41 7.96l-1.37-1.37c-.4-.4-.92-.59-1.43-.59-.52 0-1.04.2-1.43.59L10.3 9.45l-7.72 7.72c-.78.78-.78 2.05 0 2.83L4 21.41c.39.39.9.59 1.41.59.51 0 1.02-.2 1.41-.59l7.78-7.78 2.81-2.81c.8-.78.8-2.07 0-2.86zM5.41 20L4 18.59l7.72-7.72 1.47 1.35L5.41 20z\"/>\n",
       "  </svg>\n",
       "      </button>\n",
       "      \n",
       "  <style>\n",
       "    .colab-df-container {\n",
       "      display:flex;\n",
       "      flex-wrap:wrap;\n",
       "      gap: 12px;\n",
       "    }\n",
       "\n",
       "    .colab-df-convert {\n",
       "      background-color: #E8F0FE;\n",
       "      border: none;\n",
       "      border-radius: 50%;\n",
       "      cursor: pointer;\n",
       "      display: none;\n",
       "      fill: #1967D2;\n",
       "      height: 32px;\n",
       "      padding: 0 0 0 0;\n",
       "      width: 32px;\n",
       "    }\n",
       "\n",
       "    .colab-df-convert:hover {\n",
       "      background-color: #E2EBFA;\n",
       "      box-shadow: 0px 1px 2px rgba(60, 64, 67, 0.3), 0px 1px 3px 1px rgba(60, 64, 67, 0.15);\n",
       "      fill: #174EA6;\n",
       "    }\n",
       "\n",
       "    [theme=dark] .colab-df-convert {\n",
       "      background-color: #3B4455;\n",
       "      fill: #D2E3FC;\n",
       "    }\n",
       "\n",
       "    [theme=dark] .colab-df-convert:hover {\n",
       "      background-color: #434B5C;\n",
       "      box-shadow: 0px 1px 3px 1px rgba(0, 0, 0, 0.15);\n",
       "      filter: drop-shadow(0px 1px 2px rgba(0, 0, 0, 0.3));\n",
       "      fill: #FFFFFF;\n",
       "    }\n",
       "  </style>\n",
       "\n",
       "      <script>\n",
       "        const buttonEl =\n",
       "          document.querySelector('#df-4ed61fbe-849f-45c0-8ec1-5595416905df button.colab-df-convert');\n",
       "        buttonEl.style.display =\n",
       "          google.colab.kernel.accessAllowed ? 'block' : 'none';\n",
       "\n",
       "        async function convertToInteractive(key) {\n",
       "          const element = document.querySelector('#df-4ed61fbe-849f-45c0-8ec1-5595416905df');\n",
       "          const dataTable =\n",
       "            await google.colab.kernel.invokeFunction('convertToInteractive',\n",
       "                                                     [key], {});\n",
       "          if (!dataTable) return;\n",
       "\n",
       "          const docLinkHtml = 'Like what you see? Visit the ' +\n",
       "            '<a target=\"_blank\" href=https://colab.research.google.com/notebooks/data_table.ipynb>data table notebook</a>'\n",
       "            + ' to learn more about interactive tables.';\n",
       "          element.innerHTML = '';\n",
       "          dataTable['output_type'] = 'display_data';\n",
       "          await google.colab.output.renderOutput(dataTable, element);\n",
       "          const docLink = document.createElement('div');\n",
       "          docLink.innerHTML = docLinkHtml;\n",
       "          element.appendChild(docLink);\n",
       "        }\n",
       "      </script>\n",
       "    </div>\n",
       "  </div>\n",
       "  "
      ],
      "text/plain": [
       "     TV Ad Budget ($)  Radio Ad Budget ($)  Newspaper Ad Budget ($)\n",
       "1               230.1                 37.8                     69.2\n",
       "2                44.5                 39.3                     45.1\n",
       "3                17.2                 45.9                     69.3\n",
       "4               151.5                 41.3                     58.5\n",
       "5               180.8                 10.8                     58.4\n",
       "..                ...                  ...                      ...\n",
       "196              38.2                  3.7                     13.8\n",
       "197              94.2                  4.9                      8.1\n",
       "198             177.0                  9.3                      6.4\n",
       "199             283.6                 42.0                     66.2\n",
       "200             232.1                  8.6                      8.7\n",
       "\n",
       "[200 rows x 3 columns]"
      ]
     },
     "execution_count": 39,
     "metadata": {},
     "output_type": "execute_result"
    }
   ],
   "source": [
    "#View the feature object\n",
    "features"
   ]
  },
  {
   "cell_type": "code",
   "execution_count": 20,
   "metadata": {
    "collapsed": true,
    "executionInfo": {
     "elapsed": 41,
     "status": "ok",
     "timestamp": 1640682084567,
     "user": {
      "displayName": "SHIRSENDU KONER",
      "photoUrl": "https://lh3.googleusercontent.com/a-/AOh14GhJ1OfhDRxf1xUH2W5jAzLpuf7lkDCJ-340fmzb4g=s64",
      "userId": "01959578303181808026"
     },
     "user_tz": -330
    },
    "id": "TiNFbDU6uvrs"
   },
   "outputs": [],
   "source": [
    "#Create a target object (Hint: use the sales column as it is the response of the dataset)\n",
    "target_name = ['Sales ($)']\n",
    "target = dataset[target_name]\n"
   ]
  },
  {
   "cell_type": "code",
   "execution_count": 21,
   "metadata": {
    "colab": {
     "base_uri": "https://localhost:8080/",
     "height": 423
    },
    "executionInfo": {
     "elapsed": 42,
     "status": "ok",
     "timestamp": 1640682084568,
     "user": {
      "displayName": "SHIRSENDU KONER",
      "photoUrl": "https://lh3.googleusercontent.com/a-/AOh14GhJ1OfhDRxf1xUH2W5jAzLpuf7lkDCJ-340fmzb4g=s64",
      "userId": "01959578303181808026"
     },
     "user_tz": -330
    },
    "id": "bqQTj9cxuvru",
    "outputId": "c4960042-2ff9-4e98-943e-17b452ebc218"
   },
   "outputs": [
    {
     "data": {
      "text/html": [
       "\n",
       "  <div id=\"df-9f826e78-a701-41eb-90d6-441bb2ef4a2c\">\n",
       "    <div class=\"colab-df-container\">\n",
       "      <div>\n",
       "<style scoped>\n",
       "    .dataframe tbody tr th:only-of-type {\n",
       "        vertical-align: middle;\n",
       "    }\n",
       "\n",
       "    .dataframe tbody tr th {\n",
       "        vertical-align: top;\n",
       "    }\n",
       "\n",
       "    .dataframe thead th {\n",
       "        text-align: right;\n",
       "    }\n",
       "</style>\n",
       "<table border=\"1\" class=\"dataframe\">\n",
       "  <thead>\n",
       "    <tr style=\"text-align: right;\">\n",
       "      <th></th>\n",
       "      <th>Sales ($)</th>\n",
       "    </tr>\n",
       "  </thead>\n",
       "  <tbody>\n",
       "    <tr>\n",
       "      <th>1</th>\n",
       "      <td>22.1</td>\n",
       "    </tr>\n",
       "    <tr>\n",
       "      <th>2</th>\n",
       "      <td>10.4</td>\n",
       "    </tr>\n",
       "    <tr>\n",
       "      <th>3</th>\n",
       "      <td>9.3</td>\n",
       "    </tr>\n",
       "    <tr>\n",
       "      <th>4</th>\n",
       "      <td>18.5</td>\n",
       "    </tr>\n",
       "    <tr>\n",
       "      <th>5</th>\n",
       "      <td>12.9</td>\n",
       "    </tr>\n",
       "    <tr>\n",
       "      <th>...</th>\n",
       "      <td>...</td>\n",
       "    </tr>\n",
       "    <tr>\n",
       "      <th>196</th>\n",
       "      <td>7.6</td>\n",
       "    </tr>\n",
       "    <tr>\n",
       "      <th>197</th>\n",
       "      <td>9.7</td>\n",
       "    </tr>\n",
       "    <tr>\n",
       "      <th>198</th>\n",
       "      <td>12.8</td>\n",
       "    </tr>\n",
       "    <tr>\n",
       "      <th>199</th>\n",
       "      <td>25.5</td>\n",
       "    </tr>\n",
       "    <tr>\n",
       "      <th>200</th>\n",
       "      <td>13.4</td>\n",
       "    </tr>\n",
       "  </tbody>\n",
       "</table>\n",
       "<p>200 rows × 1 columns</p>\n",
       "</div>\n",
       "      <button class=\"colab-df-convert\" onclick=\"convertToInteractive('df-9f826e78-a701-41eb-90d6-441bb2ef4a2c')\"\n",
       "              title=\"Convert this dataframe to an interactive table.\"\n",
       "              style=\"display:none;\">\n",
       "        \n",
       "  <svg xmlns=\"http://www.w3.org/2000/svg\" height=\"24px\"viewBox=\"0 0 24 24\"\n",
       "       width=\"24px\">\n",
       "    <path d=\"M0 0h24v24H0V0z\" fill=\"none\"/>\n",
       "    <path d=\"M18.56 5.44l.94 2.06.94-2.06 2.06-.94-2.06-.94-.94-2.06-.94 2.06-2.06.94zm-11 1L8.5 8.5l.94-2.06 2.06-.94-2.06-.94L8.5 2.5l-.94 2.06-2.06.94zm10 10l.94 2.06.94-2.06 2.06-.94-2.06-.94-.94-2.06-.94 2.06-2.06.94z\"/><path d=\"M17.41 7.96l-1.37-1.37c-.4-.4-.92-.59-1.43-.59-.52 0-1.04.2-1.43.59L10.3 9.45l-7.72 7.72c-.78.78-.78 2.05 0 2.83L4 21.41c.39.39.9.59 1.41.59.51 0 1.02-.2 1.41-.59l7.78-7.78 2.81-2.81c.8-.78.8-2.07 0-2.86zM5.41 20L4 18.59l7.72-7.72 1.47 1.35L5.41 20z\"/>\n",
       "  </svg>\n",
       "      </button>\n",
       "      \n",
       "  <style>\n",
       "    .colab-df-container {\n",
       "      display:flex;\n",
       "      flex-wrap:wrap;\n",
       "      gap: 12px;\n",
       "    }\n",
       "\n",
       "    .colab-df-convert {\n",
       "      background-color: #E8F0FE;\n",
       "      border: none;\n",
       "      border-radius: 50%;\n",
       "      cursor: pointer;\n",
       "      display: none;\n",
       "      fill: #1967D2;\n",
       "      height: 32px;\n",
       "      padding: 0 0 0 0;\n",
       "      width: 32px;\n",
       "    }\n",
       "\n",
       "    .colab-df-convert:hover {\n",
       "      background-color: #E2EBFA;\n",
       "      box-shadow: 0px 1px 2px rgba(60, 64, 67, 0.3), 0px 1px 3px 1px rgba(60, 64, 67, 0.15);\n",
       "      fill: #174EA6;\n",
       "    }\n",
       "\n",
       "    [theme=dark] .colab-df-convert {\n",
       "      background-color: #3B4455;\n",
       "      fill: #D2E3FC;\n",
       "    }\n",
       "\n",
       "    [theme=dark] .colab-df-convert:hover {\n",
       "      background-color: #434B5C;\n",
       "      box-shadow: 0px 1px 3px 1px rgba(0, 0, 0, 0.15);\n",
       "      filter: drop-shadow(0px 1px 2px rgba(0, 0, 0, 0.3));\n",
       "      fill: #FFFFFF;\n",
       "    }\n",
       "  </style>\n",
       "\n",
       "      <script>\n",
       "        const buttonEl =\n",
       "          document.querySelector('#df-9f826e78-a701-41eb-90d6-441bb2ef4a2c button.colab-df-convert');\n",
       "        buttonEl.style.display =\n",
       "          google.colab.kernel.accessAllowed ? 'block' : 'none';\n",
       "\n",
       "        async function convertToInteractive(key) {\n",
       "          const element = document.querySelector('#df-9f826e78-a701-41eb-90d6-441bb2ef4a2c');\n",
       "          const dataTable =\n",
       "            await google.colab.kernel.invokeFunction('convertToInteractive',\n",
       "                                                     [key], {});\n",
       "          if (!dataTable) return;\n",
       "\n",
       "          const docLinkHtml = 'Like what you see? Visit the ' +\n",
       "            '<a target=\"_blank\" href=https://colab.research.google.com/notebooks/data_table.ipynb>data table notebook</a>'\n",
       "            + ' to learn more about interactive tables.';\n",
       "          element.innerHTML = '';\n",
       "          dataTable['output_type'] = 'display_data';\n",
       "          await google.colab.output.renderOutput(dataTable, element);\n",
       "          const docLink = document.createElement('div');\n",
       "          docLink.innerHTML = docLinkHtml;\n",
       "          element.appendChild(docLink);\n",
       "        }\n",
       "      </script>\n",
       "    </div>\n",
       "  </div>\n",
       "  "
      ],
      "text/plain": [
       "     Sales ($)\n",
       "1         22.1\n",
       "2         10.4\n",
       "3          9.3\n",
       "4         18.5\n",
       "5         12.9\n",
       "..         ...\n",
       "196        7.6\n",
       "197        9.7\n",
       "198       12.8\n",
       "199       25.5\n",
       "200       13.4\n",
       "\n",
       "[200 rows x 1 columns]"
      ]
     },
     "execution_count": 21,
     "metadata": {},
     "output_type": "execute_result"
    }
   ],
   "source": [
    "#View the target object\n",
    "target"
   ]
  },
  {
   "cell_type": "code",
   "execution_count": 22,
   "metadata": {
    "colab": {
     "base_uri": "https://localhost:8080/"
    },
    "executionInfo": {
     "elapsed": 41,
     "status": "ok",
     "timestamp": 1640682084568,
     "user": {
      "displayName": "SHIRSENDU KONER",
      "photoUrl": "https://lh3.googleusercontent.com/a-/AOh14GhJ1OfhDRxf1xUH2W5jAzLpuf7lkDCJ-340fmzb4g=s64",
      "userId": "01959578303181808026"
     },
     "user_tz": -330
    },
    "id": "gK0YhnWuuvrv",
    "outputId": "e6772ede-66ef-4595-c27d-f5de1b97475a"
   },
   "outputs": [
    {
     "data": {
      "text/plain": [
       "(200, 3)"
      ]
     },
     "execution_count": 22,
     "metadata": {},
     "output_type": "execute_result"
    }
   ],
   "source": [
    "#Verify if all the observations have been captured in the feature object\n",
    "features.shape"
   ]
  },
  {
   "cell_type": "code",
   "execution_count": 23,
   "metadata": {
    "colab": {
     "base_uri": "https://localhost:8080/"
    },
    "executionInfo": {
     "elapsed": 39,
     "status": "ok",
     "timestamp": 1640682084569,
     "user": {
      "displayName": "SHIRSENDU KONER",
      "photoUrl": "https://lh3.googleusercontent.com/a-/AOh14GhJ1OfhDRxf1xUH2W5jAzLpuf7lkDCJ-340fmzb4g=s64",
      "userId": "01959578303181808026"
     },
     "user_tz": -330
    },
    "id": "XOPhWPSiuvrx",
    "outputId": "1141db58-f8ab-49e7-8af7-b70ea22490cf"
   },
   "outputs": [
    {
     "data": {
      "text/plain": [
       "(200, 1)"
      ]
     },
     "execution_count": 23,
     "metadata": {},
     "output_type": "execute_result"
    }
   ],
   "source": [
    "#Verify if all the observations have been captured in the target object\n",
    "target.shape"
   ]
  },
  {
   "cell_type": "markdown",
   "metadata": {
    "id": "an3KKLG_uvry"
   },
   "source": [
    "#### 5: Split the original dataset into training and testing datasets for the model"
   ]
  },
  {
   "cell_type": "code",
   "execution_count": 24,
   "metadata": {
    "executionInfo": {
     "elapsed": 37,
     "status": "ok",
     "timestamp": 1640682084569,
     "user": {
      "displayName": "SHIRSENDU KONER",
      "photoUrl": "https://lh3.googleusercontent.com/a-/AOh14GhJ1OfhDRxf1xUH2W5jAzLpuf7lkDCJ-340fmzb4g=s64",
      "userId": "01959578303181808026"
     },
     "user_tz": -330
    },
    "id": "nHdA4mqVuvrz"
   },
   "outputs": [],
   "source": [
    "#Split the dataset (by default, 75% is the training data and 25% is the testing data)\n",
    "X_train, X_test, y_train, y_test = train_test_split(features, target, random_state=42)"
   ]
  },
  {
   "cell_type": "code",
   "execution_count": 25,
   "metadata": {
    "colab": {
     "base_uri": "https://localhost:8080/"
    },
    "executionInfo": {
     "elapsed": 38,
     "status": "ok",
     "timestamp": 1640682084570,
     "user": {
      "displayName": "SHIRSENDU KONER",
      "photoUrl": "https://lh3.googleusercontent.com/a-/AOh14GhJ1OfhDRxf1xUH2W5jAzLpuf7lkDCJ-340fmzb4g=s64",
      "userId": "01959578303181808026"
     },
     "user_tz": -330
    },
    "id": "VEvob-e-uvr0",
    "outputId": "cedaec74-8c1f-47b2-ca2d-be08641fd42e"
   },
   "outputs": [
    {
     "data": {
      "text/plain": [
       "((150, 3), (50, 3), (150, 1), (50, 1))"
      ]
     },
     "execution_count": 25,
     "metadata": {},
     "output_type": "execute_result"
    }
   ],
   "source": [
    "#Verify if the training and testing datasets are split correctly (Hint: use the shape() method)\n",
    "X_train.shape, X_test.shape, y_train.shape, y_test.shape"
   ]
  },
  {
   "cell_type": "code",
   "execution_count": 47,
   "metadata": {
    "executionInfo": {
     "elapsed": 796,
     "status": "ok",
     "timestamp": 1640682561401,
     "user": {
      "displayName": "SHIRSENDU KONER",
      "photoUrl": "https://lh3.googleusercontent.com/a-/AOh14GhJ1OfhDRxf1xUH2W5jAzLpuf7lkDCJ-340fmzb4g=s64",
      "userId": "01959578303181808026"
     },
     "user_tz": -330
    },
    "id": "gxhFfzskSLtb"
   },
   "outputs": [],
   "source": []
  },
  {
   "cell_type": "markdown",
   "metadata": {
    "id": "X7MKkOuTuvr2"
   },
   "source": [
    "#### 6: Create a model  to predict the sales outcome"
   ]
  },
  {
   "cell_type": "code",
   "execution_count": 26,
   "metadata": {
    "colab": {
     "base_uri": "https://localhost:8080/"
    },
    "executionInfo": {
     "elapsed": 36,
     "status": "ok",
     "timestamp": 1640682084570,
     "user": {
      "displayName": "SHIRSENDU KONER",
      "photoUrl": "https://lh3.googleusercontent.com/a-/AOh14GhJ1OfhDRxf1xUH2W5jAzLpuf7lkDCJ-340fmzb4g=s64",
      "userId": "01959578303181808026"
     },
     "user_tz": -330
    },
    "id": "62Zyz0rTuvr2",
    "outputId": "a18b09f7-1380-4804-e4b2-98a6a8c023b9"
   },
   "outputs": [
    {
     "data": {
      "text/plain": [
       "LinearRegression()"
      ]
     },
     "execution_count": 26,
     "metadata": {},
     "output_type": "execute_result"
    }
   ],
   "source": [
    "#Create a linear regression model\n",
    "linReg = LinearRegression()\n",
    "linReg.fit(X_train, y_train)"
   ]
  },
  {
   "cell_type": "code",
   "execution_count": 27,
   "metadata": {
    "colab": {
     "base_uri": "https://localhost:8080/"
    },
    "executionInfo": {
     "elapsed": 35,
     "status": "ok",
     "timestamp": 1640682084570,
     "user": {
      "displayName": "SHIRSENDU KONER",
      "photoUrl": "https://lh3.googleusercontent.com/a-/AOh14GhJ1OfhDRxf1xUH2W5jAzLpuf7lkDCJ-340fmzb4g=s64",
      "userId": "01959578303181808026"
     },
     "user_tz": -330
    },
    "id": "YeT8LRh-uvr3",
    "outputId": "e449598d-3353-4ae5-a21c-b03105bc95c5"
   },
   "outputs": [
    {
     "name": "stdout",
     "output_type": "stream",
     "text": [
      "The Intercept is : [2.77830346]\n",
      "The Coefficient is : [[0.04543356 0.19145654 0.00256809]]\n"
     ]
    }
   ],
   "source": [
    "#Print the intercept and coefficients \n",
    "print('The Intercept is : {}'.format(linReg.intercept_))\n",
    "print('The Coefficient is : {}'.format(linReg.coef_))"
   ]
  },
  {
   "cell_type": "code",
   "execution_count": 28,
   "metadata": {
    "executionInfo": {
     "elapsed": 35,
     "status": "ok",
     "timestamp": 1640682084572,
     "user": {
      "displayName": "SHIRSENDU KONER",
      "photoUrl": "https://lh3.googleusercontent.com/a-/AOh14GhJ1OfhDRxf1xUH2W5jAzLpuf7lkDCJ-340fmzb4g=s64",
      "userId": "01959578303181808026"
     },
     "user_tz": -330
    },
    "id": "WAsowkFZuvr5"
   },
   "outputs": [],
   "source": [
    "#Predict the outcome for the testing dataset\n",
    "y_predicted = linReg.predict(X_test)"
   ]
  },
  {
   "cell_type": "code",
   "execution_count": 45,
   "metadata": {
    "colab": {
     "base_uri": "https://localhost:8080/"
    },
    "executionInfo": {
     "elapsed": 4,
     "status": "ok",
     "timestamp": 1640682498629,
     "user": {
      "displayName": "SHIRSENDU KONER",
      "photoUrl": "https://lh3.googleusercontent.com/a-/AOh14GhJ1OfhDRxf1xUH2W5jAzLpuf7lkDCJ-340fmzb4g=s64",
      "userId": "01959578303181808026"
     },
     "user_tz": -330
    },
    "id": "RpEs8xbh3e-V",
    "outputId": "5239907f-36fe-4d40-b087-826f522baaae"
   },
   "outputs": [
    {
     "data": {
      "text/plain": [
       "array([[16.38348211],\n",
       "       [20.92434957],\n",
       "       [21.61495426],\n",
       "       [10.49069997],\n",
       "       [22.17690456],\n",
       "       [13.02668085],\n",
       "       [21.10309295],\n",
       "       [ 7.31813008],\n",
       "       [13.56732111],\n",
       "       [15.12238649],\n",
       "       [ 8.92494113],\n",
       "       [ 6.49924401],\n",
       "       [14.30119928],\n",
       "       [ 8.77233515],\n",
       "       [ 9.58665483],\n",
       "       [12.09485291],\n",
       "       [ 8.59621605],\n",
       "       [16.25337881],\n",
       "       [10.16948105],\n",
       "       [18.85753401],\n",
       "       [19.5799036 ],\n",
       "       [13.15877029],\n",
       "       [12.25103735],\n",
       "       [21.35141984],\n",
       "       [ 7.69607607],\n",
       "       [ 5.64686906],\n",
       "       [20.79780073],\n",
       "       [11.90951247],\n",
       "       [ 9.06581044],\n",
       "       [ 8.37295611],\n",
       "       [12.40815899],\n",
       "       [ 9.89416076],\n",
       "       [21.42707658],\n",
       "       [12.14236853],\n",
       "       [18.28776857],\n",
       "       [20.18114718],\n",
       "       [13.99303029],\n",
       "       [20.89987736],\n",
       "       [10.9313953 ],\n",
       "       [ 4.38721626],\n",
       "       [ 9.58213448],\n",
       "       [12.6170249 ],\n",
       "       [ 9.93851933],\n",
       "       [ 8.06816257],\n",
       "       [13.45497849],\n",
       "       [ 5.25769423],\n",
       "       [ 9.15399537],\n",
       "       [14.09552838],\n",
       "       [ 8.71029827],\n",
       "       [11.55102817]])"
      ]
     },
     "execution_count": 45,
     "metadata": {},
     "output_type": "execute_result"
    }
   ],
   "source": [
    "y_predicted"
   ]
  },
  {
   "cell_type": "code",
   "execution_count": 30,
   "metadata": {
    "colab": {
     "base_uri": "https://localhost:8080/"
    },
    "executionInfo": {
     "elapsed": 34,
     "status": "ok",
     "timestamp": 1640682084573,
     "user": {
      "displayName": "SHIRSENDU KONER",
      "photoUrl": "https://lh3.googleusercontent.com/a-/AOh14GhJ1OfhDRxf1xUH2W5jAzLpuf7lkDCJ-340fmzb4g=s64",
      "userId": "01959578303181808026"
     },
     "user_tz": -330
    },
    "id": "ctLCPzIp3i0V",
    "outputId": "de2d1c55-e766-4425-eb2a-c07354ab8cc1"
   },
   "outputs": [
    {
     "data": {
      "text/plain": [
       "(50, 1)"
      ]
     },
     "execution_count": 30,
     "metadata": {},
     "output_type": "execute_result"
    }
   ],
   "source": [
    "y_predicted.shape"
   ]
  },
  {
   "cell_type": "markdown",
   "metadata": {
    "id": "puUIlrlAuvr6"
   },
   "source": [
    "#### 7: Calculate the Mean Square Error (MSE)"
   ]
  },
  {
   "cell_type": "code",
   "execution_count": 31,
   "metadata": {
    "collapsed": true,
    "executionInfo": {
     "elapsed": 33,
     "status": "ok",
     "timestamp": 1640682084574,
     "user": {
      "displayName": "SHIRSENDU KONER",
      "photoUrl": "https://lh3.googleusercontent.com/a-/AOh14GhJ1OfhDRxf1xUH2W5jAzLpuf7lkDCJ-340fmzb4g=s64",
      "userId": "01959578303181808026"
     },
     "user_tz": -330
    },
    "id": "lu7sh1uxuvr6"
   },
   "outputs": [],
   "source": [
    "#Import required libraries for calculating MSE (mean square error)\n",
    "# --->> Imported MSE (mean square error) at the top of the NOTEBOOK"
   ]
  },
  {
   "cell_type": "code",
   "execution_count": 32,
   "metadata": {
    "executionInfo": {
     "elapsed": 32,
     "status": "ok",
     "timestamp": 1640682084574,
     "user": {
      "displayName": "SHIRSENDU KONER",
      "photoUrl": "https://lh3.googleusercontent.com/a-/AOh14GhJ1OfhDRxf1xUH2W5jAzLpuf7lkDCJ-340fmzb4g=s64",
      "userId": "01959578303181808026"
     },
     "user_tz": -330
    },
    "id": "MvkAgspfuvr7"
   },
   "outputs": [],
   "source": [
    "#Calculate the MSE\n",
    "mse = np.sqrt(mean_squared_error(y_test, y_predicted))"
   ]
  },
  {
   "cell_type": "code",
   "execution_count": 33,
   "metadata": {
    "colab": {
     "base_uri": "https://localhost:8080/"
    },
    "executionInfo": {
     "elapsed": 32,
     "status": "ok",
     "timestamp": 1640682084574,
     "user": {
      "displayName": "SHIRSENDU KONER",
      "photoUrl": "https://lh3.googleusercontent.com/a-/AOh14GhJ1OfhDRxf1xUH2W5jAzLpuf7lkDCJ-340fmzb4g=s64",
      "userId": "01959578303181808026"
     },
     "user_tz": -330
    },
    "id": "wOiPXQng4Kjj",
    "outputId": "5d62f278-8205-445f-bb4e-81e9f7ab49a7"
   },
   "outputs": [
    {
     "data": {
      "text/plain": [
       "1.697063266379363"
      ]
     },
     "execution_count": 33,
     "metadata": {},
     "output_type": "execute_result"
    }
   ],
   "source": [
    "mse"
   ]
  },
  {
   "cell_type": "code",
   "execution_count": 48,
   "metadata": {
    "colab": {
     "base_uri": "https://localhost:8080/"
    },
    "executionInfo": {
     "elapsed": 780,
     "status": "ok",
     "timestamp": 1640682643708,
     "user": {
      "displayName": "SHIRSENDU KONER",
      "photoUrl": "https://lh3.googleusercontent.com/a-/AOh14GhJ1OfhDRxf1xUH2W5jAzLpuf7lkDCJ-340fmzb4g=s64",
      "userId": "01959578303181808026"
     },
     "user_tz": -330
    },
    "id": "kEcKRzYT4LZi",
    "outputId": "c48ce6ef-ea38-43b1-8249-97a137e85dc2"
   },
   "outputs": [
    {
     "name": "stdout",
     "output_type": "stream",
     "text": [
      "True Y values : \n",
      "[[16.9]\n",
      " [22.4]\n",
      " [21.4]\n",
      " [ 7.3]\n",
      " [24.7]\n",
      " [12.6]\n",
      " [22.3]\n",
      " [ 8.4]\n",
      " [11.5]\n",
      " [14.9]]\n",
      "Predicted Y values : \n",
      "[[16.38348211]\n",
      " [20.92434957]\n",
      " [21.61495426]\n",
      " [10.49069997]\n",
      " [22.17690456]\n",
      " [13.02668085]\n",
      " [21.10309295]\n",
      " [ 7.31813008]\n",
      " [13.56732111]\n",
      " [15.12238649]]\n"
     ]
    }
   ],
   "source": [
    "print('True Y values : ')\n",
    "print(y_test.values[:10])\n",
    "print('Predicted Y values : ')\n",
    "print(y_predicted[:10])"
   ]
  },
  {
   "cell_type": "code",
   "execution_count": 34,
   "metadata": {
    "executionInfo": {
     "elapsed": 30,
     "status": "ok",
     "timestamp": 1640682084575,
     "user": {
      "displayName": "SHIRSENDU KONER",
      "photoUrl": "https://lh3.googleusercontent.com/a-/AOh14GhJ1OfhDRxf1xUH2W5jAzLpuf7lkDCJ-340fmzb4g=s64",
      "userId": "01959578303181808026"
     },
     "user_tz": -330
    },
    "id": "cCiNvhtN5Z8K"
   },
   "outputs": [],
   "source": []
  }
 ],
 "metadata": {
  "colab": {
   "collapsed_sections": [
    "u9QZ_C_quvq-",
    "SuRSEpyUuvrQ",
    "UG9pgnx7uvra",
    "Q9eWyZ1tuvrg",
    "M5r2iiLauvro",
    "an3KKLG_uvry",
    "X7MKkOuTuvr2",
    "puUIlrlAuvr6"
   ],
   "name": "Assignment 01.ipynb",
   "provenance": []
  },
  "kernelspec": {
   "display_name": "Python 3 (ipykernel)",
   "language": "python",
   "name": "python3"
  },
  "language_info": {
   "codemirror_mode": {
    "name": "ipython",
    "version": 3
   },
   "file_extension": ".py",
   "mimetype": "text/x-python",
   "name": "python",
   "nbconvert_exporter": "python",
   "pygments_lexer": "ipython3",
   "version": "3.8.8"
  }
 },
 "nbformat": 4,
 "nbformat_minor": 1
}
