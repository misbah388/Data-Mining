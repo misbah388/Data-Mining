{
 "cells": [
  {
   "cell_type": "markdown",
   "metadata": {},
   "source": [
    "\n",
    "# Assignment 01: Evaluate the GDP Dataset\n",
    "\n",
    "**Happy coding!**\n",
    "\n",
    "* * *"
   ]
  },
  {
   "cell_type": "markdown",
   "metadata": {},
   "source": [
    "#### 1: View and add the dataset"
   ]
  },
  {
   "cell_type": "code",
   "execution_count": 30,
   "metadata": {},
   "outputs": [],
   "source": [
    "#Import required library\n",
    "import numpy as np"
   ]
  },
  {
   "cell_type": "code",
   "execution_count": 4,
   "metadata": {},
   "outputs": [],
   "source": [
    "#Manually add the dataset\n",
    "dataset = {'List of countries':['Algeria','Angola','Argentina','Australia','Austria','Bahamas','Bangladesh','Belarus',\n",
    "                                'Belgium','Bhutan','Brazil','Bulgaria','Cambodia','Cameroon','Chile','China','Colombia',\n",
    "                                'Cyprus','Denmark','El Salvador','Estonia','Ethiopia','Fiji','Finland','France','Georgia',\n",
    "                                'Ghana','Grenada','Guinea','Haiti','Honduras','Hungary','India','Indonesia','Ireland',\n",
    "                                'Italy','Japan','Kenya', 'South Korea','Liberia','Malaysia','Mexico', 'Morocco','Nepal',\n",
    "                                'New Zealand','Norway','Pakistan', 'Peru','Qatar','Russia','Singapore','South Africa',\n",
    "                                'Spain','Sweden','Switzerland','Thailand', 'United Arab Emirates','United Kingdom',\n",
    "                                'United States','Uruguay','Venezuela','Vietnam','Zimbabwe'],\n",
    "          'GDP values for each country':[2255.225482,629.9553062,11601.63022,25306.82494,27266.40335,19466.99052,588.3691778,\n",
    "                                         2890.345675,24733.62696,1445.760002,4803.398244,2618.876037,590.4521124,665.7982328,\n",
    "                                         7122.938458,2639.54156,3362.4656,15378.16704,30860.12808,2579.115607,6525.541272,\n",
    "                                         229.6769525,2242.689259,27570.4852,23016.84778,1334.646773,402.6953275,6047.200797,\n",
    "                                         394.1156638,385.5793827,1414.072488,5745.981529,837.7464011,1206.991065,27715.52837,\n",
    "                                         18937.24998,39578.07441,478.2194906,16684.21278,279.2204061,5345.213415,6288.25324,\n",
    "                                         1908.304416,274.8728621,14646.42094,40034.85063,672.1547506,3359.517402,36152.66676,\n",
    "                                         3054.727742,33529.83052,3825.093781,15428.32098,33630.24604,39170.41371,2699.123242,\n",
    "                                         21058.43643,28272.40661,37691.02733,9581.05659,5671.912202,757.4009286,347.7456605]}"
   ]
  },
  {
   "cell_type": "code",
   "execution_count": 6,
   "metadata": {},
   "outputs": [],
   "source": [
    "list_of_countries =np.array(dataset['List of countries'])\n",
    "gdp_value_for_each_country = np.array(dataset['GDP values for each country'])"
   ]
  },
  {
   "cell_type": "code",
   "execution_count": 7,
   "metadata": {},
   "outputs": [
    {
     "data": {
      "text/plain": [
       "array(['Algeria', 'Angola', 'Argentina', 'Australia', 'Austria',\n",
       "       'Bahamas', 'Bangladesh', 'Belarus', 'Belgium', 'Bhutan', 'Brazil',\n",
       "       'Bulgaria', 'Cambodia', 'Cameroon', 'Chile', 'China', 'Colombia',\n",
       "       'Cyprus', 'Denmark', 'El Salvador', 'Estonia', 'Ethiopia', 'Fiji',\n",
       "       'Finland', 'France', 'Georgia', 'Ghana', 'Grenada', 'Guinea',\n",
       "       'Haiti', 'Honduras', 'Hungary', 'India', 'Indonesia', 'Ireland',\n",
       "       'Italy', 'Japan', 'Kenya', 'South Korea', 'Liberia', 'Malaysia',\n",
       "       'Mexico', 'Morocco', 'Nepal', 'New Zealand', 'Norway', 'Pakistan',\n",
       "       'Peru', 'Qatar', 'Russia', 'Singapore', 'South Africa', 'Spain',\n",
       "       'Sweden', 'Switzerland', 'Thailand', 'United Arab Emirates',\n",
       "       'United Kingdom', 'United States', 'Uruguay', 'Venezuela',\n",
       "       'Vietnam', 'Zimbabwe'], dtype='<U20')"
      ]
     },
     "execution_count": 7,
     "metadata": {},
     "output_type": "execute_result"
    }
   ],
   "source": [
    "list_of_countries"
   ]
  },
  {
   "cell_type": "code",
   "execution_count": 8,
   "metadata": {},
   "outputs": [
    {
     "data": {
      "text/plain": [
       "array([ 2255.225482 ,   629.9553062, 11601.63022  , 25306.82494  ,\n",
       "       27266.40335  , 19466.99052  ,   588.3691778,  2890.345675 ,\n",
       "       24733.62696  ,  1445.760002 ,  4803.398244 ,  2618.876037 ,\n",
       "         590.4521124,   665.7982328,  7122.938458 ,  2639.54156  ,\n",
       "        3362.4656   , 15378.16704  , 30860.12808  ,  2579.115607 ,\n",
       "        6525.541272 ,   229.6769525,  2242.689259 , 27570.4852   ,\n",
       "       23016.84778  ,  1334.646773 ,   402.6953275,  6047.200797 ,\n",
       "         394.1156638,   385.5793827,  1414.072488 ,  5745.981529 ,\n",
       "         837.7464011,  1206.991065 , 27715.52837  , 18937.24998  ,\n",
       "       39578.07441  ,   478.2194906, 16684.21278  ,   279.2204061,\n",
       "        5345.213415 ,  6288.25324  ,  1908.304416 ,   274.8728621,\n",
       "       14646.42094  , 40034.85063  ,   672.1547506,  3359.517402 ,\n",
       "       36152.66676  ,  3054.727742 , 33529.83052  ,  3825.093781 ,\n",
       "       15428.32098  , 33630.24604  , 39170.41371  ,  2699.123242 ,\n",
       "       21058.43643  , 28272.40661  , 37691.02733  ,  9581.05659  ,\n",
       "        5671.912202 ,   757.4009286,   347.7456605])"
      ]
     },
     "execution_count": 8,
     "metadata": {},
     "output_type": "execute_result"
    }
   ],
   "source": [
    "gdp_value_for_each_country"
   ]
  },
  {
   "cell_type": "markdown",
   "metadata": {
    "collapsed": true
   },
   "source": [
    "#### 2: Find and print the name of the country with the highest GDP"
   ]
  },
  {
   "cell_type": "code",
   "execution_count": 15,
   "metadata": {},
   "outputs": [],
   "source": [
    "#Use the argmax() method to find the highest GDP\n",
    "\n",
    "# argmax() gives the index of the highest or maximum value in the array\n",
    "index_of_highest_gdp_value = gdp_value_for_each_country.argmax()"
   ]
  },
  {
   "cell_type": "code",
   "execution_count": 19,
   "metadata": {},
   "outputs": [
    {
     "name": "stdout",
     "output_type": "stream",
     "text": [
      "Norway\n",
      "So, the country with the Highest GDP value is -->> Norway\n"
     ]
    }
   ],
   "source": [
    "#Print the name of the country\n",
    "print(list_of_countries[index_of_highest_gdp_value])\n",
    "print(f'So, the country with the Highest GDP value is -->> {list_of_countries[index_of_highest_gdp_value]}')"
   ]
  },
  {
   "cell_type": "markdown",
   "metadata": {},
   "source": [
    "#### 3: Find and print the name of the country with the lowest GDP"
   ]
  },
  {
   "cell_type": "code",
   "execution_count": 20,
   "metadata": {},
   "outputs": [],
   "source": [
    "#Use the argmin() method to find the lowest GDP\n",
    "\n",
    "# argmin() gives the index of the lowest or minimum value in the array\n",
    "index_of_lowest_gdp_value = gdp_value_for_each_country.argmin()"
   ]
  },
  {
   "cell_type": "code",
   "execution_count": 21,
   "metadata": {},
   "outputs": [
    {
     "name": "stdout",
     "output_type": "stream",
     "text": [
      "Ethiopia\n",
      "So, the country with the Lowest GDP value is -->> Ethiopia\n"
     ]
    }
   ],
   "source": [
    "#Print the name of the country\n",
    "print(list_of_countries[index_of_lowest_gdp_value])\n",
    "print(f'So, the country with the Lowest GDP value is -->>', list_of_countries[index_of_lowest_gdp_value])"
   ]
  },
  {
   "cell_type": "markdown",
   "metadata": {},
   "source": [
    "#### 4: Print out text ('evaluating country') and input value ('country name') iteratively"
   ]
  },
  {
   "cell_type": "code",
   "execution_count": 22,
   "metadata": {},
   "outputs": [
    {
     "name": "stdout",
     "output_type": "stream",
     "text": [
      "evaluating country Algeria\n",
      "evaluating country Angola\n",
      "evaluating country Argentina\n",
      "evaluating country Australia\n",
      "evaluating country Austria\n",
      "evaluating country Bahamas\n",
      "evaluating country Bangladesh\n",
      "evaluating country Belarus\n",
      "evaluating country Belgium\n",
      "evaluating country Bhutan\n",
      "evaluating country Brazil\n",
      "evaluating country Bulgaria\n",
      "evaluating country Cambodia\n",
      "evaluating country Cameroon\n",
      "evaluating country Chile\n",
      "evaluating country China\n",
      "evaluating country Colombia\n",
      "evaluating country Cyprus\n",
      "evaluating country Denmark\n",
      "evaluating country El Salvador\n",
      "evaluating country Estonia\n",
      "evaluating country Ethiopia\n",
      "evaluating country Fiji\n",
      "evaluating country Finland\n",
      "evaluating country France\n",
      "evaluating country Georgia\n",
      "evaluating country Ghana\n",
      "evaluating country Grenada\n",
      "evaluating country Guinea\n",
      "evaluating country Haiti\n",
      "evaluating country Honduras\n",
      "evaluating country Hungary\n",
      "evaluating country India\n",
      "evaluating country Indonesia\n",
      "evaluating country Ireland\n",
      "evaluating country Italy\n",
      "evaluating country Japan\n",
      "evaluating country Kenya\n",
      "evaluating country South Korea\n",
      "evaluating country Liberia\n",
      "evaluating country Malaysia\n",
      "evaluating country Mexico\n",
      "evaluating country Morocco\n",
      "evaluating country Nepal\n",
      "evaluating country New Zealand\n",
      "evaluating country Norway\n",
      "evaluating country Pakistan\n",
      "evaluating country Peru\n",
      "evaluating country Qatar\n",
      "evaluating country Russia\n",
      "evaluating country Singapore\n",
      "evaluating country South Africa\n",
      "evaluating country Spain\n",
      "evaluating country Sweden\n",
      "evaluating country Switzerland\n",
      "evaluating country Thailand\n",
      "evaluating country United Arab Emirates\n",
      "evaluating country United Kingdom\n",
      "evaluating country United States\n",
      "evaluating country Uruguay\n",
      "evaluating country Venezuela\n",
      "evaluating country Vietnam\n",
      "evaluating country Zimbabwe\n"
     ]
    }
   ],
   "source": [
    "#Use a for loop to print the required output\n",
    "\n",
    "for country_name in list_of_countries:\n",
    "    print('evaluating country', country_name)"
   ]
  },
  {
   "cell_type": "markdown",
   "metadata": {},
   "source": [
    "#### 5: Print out the entire list of the countries with their GDPs"
   ]
  },
  {
   "cell_type": "code",
   "execution_count": 27,
   "metadata": {},
   "outputs": [
    {
     "name": "stdout",
     "output_type": "stream",
     "text": [
      "Country Algeria has GDP Value of 2255.225482\n",
      "Country Angola has GDP Value of 629.9553062\n",
      "Country Argentina has GDP Value of 11601.63022\n",
      "Country Australia has GDP Value of 25306.82494\n",
      "Country Austria has GDP Value of 27266.40335\n",
      "Country Bahamas has GDP Value of 19466.99052\n",
      "Country Bangladesh has GDP Value of 588.3691778\n",
      "Country Belarus has GDP Value of 2890.345675\n",
      "Country Belgium has GDP Value of 24733.62696\n",
      "Country Bhutan has GDP Value of 1445.760002\n",
      "Country Brazil has GDP Value of 4803.398244\n",
      "Country Bulgaria has GDP Value of 2618.876037\n",
      "Country Cambodia has GDP Value of 590.4521124\n",
      "Country Cameroon has GDP Value of 665.7982328\n",
      "Country Chile has GDP Value of 7122.938458\n",
      "Country China has GDP Value of 2639.54156\n",
      "Country Colombia has GDP Value of 3362.4656\n",
      "Country Cyprus has GDP Value of 15378.16704\n",
      "Country Denmark has GDP Value of 30860.12808\n",
      "Country El Salvador has GDP Value of 2579.115607\n",
      "Country Estonia has GDP Value of 6525.541272\n",
      "Country Ethiopia has GDP Value of 229.6769525\n",
      "Country Fiji has GDP Value of 2242.689259\n",
      "Country Finland has GDP Value of 27570.4852\n",
      "Country France has GDP Value of 23016.84778\n",
      "Country Georgia has GDP Value of 1334.646773\n",
      "Country Ghana has GDP Value of 402.6953275\n",
      "Country Grenada has GDP Value of 6047.200797\n",
      "Country Guinea has GDP Value of 394.1156638\n",
      "Country Haiti has GDP Value of 385.5793827\n",
      "Country Honduras has GDP Value of 1414.072488\n",
      "Country Hungary has GDP Value of 5745.981529\n",
      "Country India has GDP Value of 837.7464011\n",
      "Country Indonesia has GDP Value of 1206.991065\n",
      "Country Ireland has GDP Value of 27715.52837\n",
      "Country Italy has GDP Value of 18937.24998\n",
      "Country Japan has GDP Value of 39578.07441\n",
      "Country Kenya has GDP Value of 478.2194906\n",
      "Country South Korea has GDP Value of 16684.21278\n",
      "Country Liberia has GDP Value of 279.2204061\n",
      "Country Malaysia has GDP Value of 5345.213415\n",
      "Country Mexico has GDP Value of 6288.25324\n",
      "Country Morocco has GDP Value of 1908.304416\n",
      "Country Nepal has GDP Value of 274.8728621\n",
      "Country New Zealand has GDP Value of 14646.42094\n",
      "Country Norway has GDP Value of 40034.85063\n",
      "Country Pakistan has GDP Value of 672.1547506\n",
      "Country Peru has GDP Value of 3359.517402\n",
      "Country Qatar has GDP Value of 36152.66676\n",
      "Country Russia has GDP Value of 3054.727742\n",
      "Country Singapore has GDP Value of 33529.83052\n",
      "Country South Africa has GDP Value of 3825.093781\n",
      "Country Spain has GDP Value of 15428.32098\n",
      "Country Sweden has GDP Value of 33630.24604\n",
      "Country Switzerland has GDP Value of 39170.41371\n",
      "Country Thailand has GDP Value of 2699.123242\n",
      "Country United Arab Emirates has GDP Value of 21058.43643\n",
      "Country United Kingdom has GDP Value of 28272.40661\n",
      "Country United States has GDP Value of 37691.02733\n",
      "Country Uruguay has GDP Value of 9581.05659\n",
      "Country Venezuela has GDP Value of 5671.912202\n",
      "Country Vietnam has GDP Value of 757.4009286\n",
      "Country Zimbabwe has GDP Value of 347.7456605\n"
     ]
    }
   ],
   "source": [
    "#Use a for loop to print the required list\n",
    "\n",
    "for country_name, gdp_value in zip(list_of_countries, gdp_value_for_each_country):\n",
    "    print(f'Country {country_name} has GDP Value of {gdp_value}')"
   ]
  },
  {
   "cell_type": "markdown",
   "metadata": {},
   "source": [
    "#### 6: Print the following:\n",
    "1. Highest GPD value\n",
    "2. Lowest GDP value\n",
    "3. Mean GDP value\n",
    "4. Standardized GDP value\n",
    "5. Sum of all the GDPs"
   ]
  },
  {
   "cell_type": "code",
   "execution_count": 26,
   "metadata": {},
   "outputs": [
    {
     "name": "stdout",
     "output_type": "stream",
     "text": [
      "1. Highest GDP Value is 40034.85063\n",
      "2. Lowhest GDP Value is 229.6769525\n",
      "3. Mean GDP Value is 11289.409271639683\n",
      "4. Standardized GDP Value is 12743.828910617945\n",
      "5. Sum of all the GDPs is 711232.7841133001\n"
     ]
    }
   ],
   "source": [
    "print(f'1. Highest GDP Value is {gdp_value_for_each_country[index_of_highest_gdp_value]}')\n",
    "print(f'2. Lowhest GDP Value is {gdp_value_for_each_country[index_of_lowest_gdp_value]}')\n",
    "print(f'3. Mean GDP Value is {gdp_value_for_each_country.mean()}')\n",
    "print(f'4. Standardized GDP Value is {gdp_value_for_each_country.std()}')\n",
    "print(f'5. Sum of all the GDPs is {sum(gdp_value_for_each_country)}')"
   ]
  },
  {
   "cell_type": "code",
   "execution_count": 28,
   "metadata": {},
   "outputs": [
    {
     "name": "stdout",
     "output_type": "stream",
     "text": [
      "1. Highest GDP Value is 40034.85063\n",
      "2. Lowhest GDP Value is 229.6769525\n",
      "3. Mean GDP Value is 11289.409271639683\n",
      "4. Standardized GDP Value is 12743.828910617945\n",
      "5. Sum of all the GDPs is 711232.7841133\n"
     ]
    }
   ],
   "source": [
    "# Another way to do the above operations is :\n",
    "print(f'1. Highest GDP Value is {gdp_value_for_each_country.max()}')\n",
    "print(f'2. Lowhest GDP Value is {gdp_value_for_each_country.min()}')\n",
    "print(f'3. Mean GDP Value is {gdp_value_for_each_country.mean()}')\n",
    "print(f'4. Standardized GDP Value is {gdp_value_for_each_country.std()}')\n",
    "print(f'5. Sum of all the GDPs is {gdp_value_for_each_country.sum()}')"
   ]
  },
  {
   "cell_type": "markdown",
   "metadata": {},
   "source": [
    "# Thank You"
   ]
  }
 ],
 "metadata": {
  "kernelspec": {
   "display_name": "Python 3 (ipykernel)",
   "language": "python",
   "name": "python3"
  },
  "language_info": {
   "codemirror_mode": {
    "name": "ipython",
    "version": 3
   },
   "file_extension": ".py",
   "mimetype": "text/x-python",
   "name": "python",
   "nbconvert_exporter": "python",
   "pygments_lexer": "ipython3",
   "version": "3.8.8"
  }
 },
 "nbformat": 4,
 "nbformat_minor": 1
}
