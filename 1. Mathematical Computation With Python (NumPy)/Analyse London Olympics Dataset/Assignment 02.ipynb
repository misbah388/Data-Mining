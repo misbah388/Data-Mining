{
 "cells": [
  {
   "cell_type": "markdown",
   "metadata": {},
   "source": [
    "\n",
    "\n",
    "# Assignment 02: Evaluate the Summer Olympics, London 2012 dataset\n",
    "\n",
    "\n",
    "**Happy coding!**\n",
    "\n",
    "* * *"
   ]
  },
  {
   "cell_type": "markdown",
   "metadata": {},
   "source": [
    "#### 1: View and add the dataset"
   ]
  },
  {
   "cell_type": "code",
   "execution_count": 1,
   "metadata": {},
   "outputs": [],
   "source": [
    "#Import the necessary library\n",
    "import numpy as np"
   ]
  },
  {
   "cell_type": "code",
   "execution_count": 2,
   "metadata": {},
   "outputs": [],
   "source": [
    "#Manually add the Summer Olympics, London 2012 dataset as arrays\n",
    "\n",
    "country = np.array(['GBR', 'China', 'RUS', 'US', 'KOR', 'JPN', 'GER'])\n",
    "medal_gold = np.array([29, 38, 24, 46, 13, 7, 11])\n",
    "medal_silver = np.array([17, 28, 25, 28, 8, 14, 11])\n",
    "medal_bronze = np.array([19, 22, 32, 29, 7, 17, 14])\n"
   ]
  },
  {
   "cell_type": "markdown",
   "metadata": {},
   "source": [
    "#### Find the country with maximum gold medals"
   ]
  },
  {
   "cell_type": "code",
   "execution_count": 3,
   "metadata": {},
   "outputs": [],
   "source": [
    "#Use the argmax() method to find the highest number of gold medals\n",
    "index_of_max_gold_value = medal_gold.argmax()"
   ]
  },
  {
   "cell_type": "code",
   "execution_count": 5,
   "metadata": {},
   "outputs": [
    {
     "name": "stdout",
     "output_type": "stream",
     "text": [
      "US\n"
     ]
    }
   ],
   "source": [
    "#Print the name of the country\n",
    "country_with_max_gold = country[index_of_max_gold_value]\n",
    "print(country_with_max_gold)"
   ]
  },
  {
   "cell_type": "markdown",
   "metadata": {},
   "source": [
    "#### Find the countries with more than 20 gold medals"
   ]
  },
  {
   "cell_type": "code",
   "execution_count": 7,
   "metadata": {},
   "outputs": [
    {
     "name": "stdout",
     "output_type": "stream",
     "text": [
      "Countries with Gold Medal greater than 20 are : \n",
      "GBR\n",
      "China\n",
      "RUS\n",
      "US\n"
     ]
    }
   ],
   "source": [
    "#Use Boolean indexing technique to find the required output\n",
    "countries_with_more_than_20_gold_medal = country[medal_gold > 20]\n",
    "print('Countries with Gold Medal greater than 20 are : ')\n",
    "for country_name in countries_with_more_than_20_gold_medal:\n",
    "    print(country_name)"
   ]
  },
  {
   "cell_type": "markdown",
   "metadata": {},
   "source": [
    "#### Evaluate the dataset and print the name of each country with its gold medals and total number of medals"
   ]
  },
  {
   "cell_type": "code",
   "execution_count": 19,
   "metadata": {},
   "outputs": [
    {
     "name": "stdout",
     "output_type": "stream",
     "text": [
      "The name of each Country with its Gold medals and Total number of medals are : \n",
      "\n",
      "GBR, Gold medals - 29 and, Total medals - 65 in all at the Olympic\n",
      "China, Gold medals - 38 and, Total medals - 88 in all at the Olympic\n",
      "RUS, Gold medals - 24 and, Total medals - 81 in all at the Olympic\n",
      "US, Gold medals - 46 and, Total medals - 103 in all at the Olympic\n",
      "KOR, Gold medals - 13 and, Total medals - 28 in all at the Olympic\n",
      "JPN, Gold medals - 7 and, Total medals - 38 in all at the Olympic\n",
      "GER, Gold medals - 11 and, Total medals - 36 in all at the Olympic\n"
     ]
    }
   ],
   "source": [
    "#Use a for loop to create the required output\n",
    "total_medals_each_country = medal_gold + medal_silver + medal_bronze\n",
    "print('The name of each Country with its Gold medals and Total number of medals are : \\n')\n",
    "\n",
    "for country_name, medals, gold_medal in zip(country, total_medals_each_country, medal_gold):\n",
    "    print(f'{country_name}, Gold medals - {gold_medal} and, Total medals - {medals} in all at the Olympic')"
   ]
  },
  {
   "cell_type": "markdown",
   "metadata": {},
   "source": [
    "# Thank You"
   ]
  }
 ],
 "metadata": {
  "kernelspec": {
   "display_name": "Python 3 (ipykernel)",
   "language": "python",
   "name": "python3"
  },
  "language_info": {
   "codemirror_mode": {
    "name": "ipython",
    "version": 3
   },
   "file_extension": ".py",
   "mimetype": "text/x-python",
   "name": "python",
   "nbconvert_exporter": "python",
   "pygments_lexer": "ipython3",
   "version": "3.8.8"
  }
 },
 "nbformat": 4,
 "nbformat_minor": 1
}
