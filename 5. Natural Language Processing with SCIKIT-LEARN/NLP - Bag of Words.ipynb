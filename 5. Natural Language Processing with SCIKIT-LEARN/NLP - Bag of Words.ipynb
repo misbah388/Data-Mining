{
 "cells": [
  {
   "cell_type": "code",
   "execution_count": 1,
   "id": "b0a4958f",
   "metadata": {},
   "outputs": [],
   "source": [
    "# Importing the necessary module\n",
    "from sklearn.feature_extraction.text import CountVectorizer"
   ]
  },
  {
   "cell_type": "code",
   "execution_count": 2,
   "id": "50e75c65",
   "metadata": {},
   "outputs": [],
   "source": [
    "# Instantiating the CountVectorizer\n",
    "vectorizer = CountVectorizer()"
   ]
  },
  {
   "cell_type": "markdown",
   "id": "c13ed68c",
   "metadata": {},
   "source": [
    "#### Making Of Bag of Words"
   ]
  },
  {
   "cell_type": "code",
   "execution_count": 3,
   "id": "d44e8aab",
   "metadata": {},
   "outputs": [],
   "source": [
    "# creating several documents\n",
    "doc1 = 'I am good boy'\n",
    "doc2 = 'A jack of all trades is a master of none but oftentimes is better than a master of one'\n",
    "doc3 = 'Scientists claimed yesterday to have solved the riddle of the birth of the Universe'"
   ]
  },
  {
   "cell_type": "code",
   "execution_count": 4,
   "id": "d0c1fcfa",
   "metadata": {},
   "outputs": [],
   "source": [
    "# Now creating a Bag of words by bagging these documents\n",
    "collection_of_words = [doc1, doc2, doc3]"
   ]
  },
  {
   "cell_type": "code",
   "execution_count": 6,
   "id": "aaa75b24",
   "metadata": {},
   "outputs": [
    {
     "data": {
      "text/plain": [
       "CountVectorizer()"
      ]
     },
     "execution_count": 6,
     "metadata": {},
     "output_type": "execute_result"
    }
   ],
   "source": [
    "# fitting them as bag_of_words\n",
    "bag_of_words = vectorizer.fit(collection_of_words)\n",
    "bag_of_words"
   ]
  },
  {
   "cell_type": "code",
   "execution_count": 10,
   "id": "a198f872",
   "metadata": {},
   "outputs": [
    {
     "name": "stdout",
     "output_type": "stream",
     "text": [
      "  (0, 1)\t1\n",
      "  (0, 4)\t1\n",
      "  (0, 7)\t1\n",
      "  (1, 0)\t1\n",
      "  (1, 2)\t1\n",
      "  (1, 5)\t1\n",
      "  (1, 9)\t2\n",
      "  (1, 10)\t1\n",
      "  (1, 11)\t2\n",
      "  (1, 12)\t1\n",
      "  (1, 13)\t3\n",
      "  (1, 14)\t1\n",
      "  (1, 15)\t1\n",
      "  (1, 19)\t1\n",
      "  (1, 22)\t1\n",
      "  (2, 3)\t1\n",
      "  (2, 6)\t1\n",
      "  (2, 8)\t1\n",
      "  (2, 13)\t2\n",
      "  (2, 16)\t1\n",
      "  (2, 17)\t1\n",
      "  (2, 18)\t1\n",
      "  (2, 20)\t3\n",
      "  (2, 21)\t1\n",
      "  (2, 23)\t1\n",
      "  (2, 24)\t1\n"
     ]
    }
   ],
   "source": [
    "# applying transformation method\n",
    "bag_of_words = vectorizer.transform(collection_of_words)\n",
    "print(bag_of_words)"
   ]
  },
  {
   "cell_type": "code",
   "execution_count": 11,
   "id": "e02467a6",
   "metadata": {},
   "outputs": [
    {
     "name": "stdout",
     "output_type": "stream",
     "text": [
      "9\n",
      "11\n",
      "7\n",
      "18\n"
     ]
    }
   ],
   "source": [
    "# checking for repeated words\n",
    "print(vectorizer.vocabulary_.get('is'))\n",
    "print(vectorizer.vocabulary_.get('master'))\n",
    "print(vectorizer.vocabulary_.get('good'))\n",
    "print(vectorizer.vocabulary_.get('solved'))"
   ]
  },
  {
   "cell_type": "code",
   "execution_count": 20,
   "id": "e85a2dc7",
   "metadata": {},
   "outputs": [
    {
     "data": {
      "text/plain": [
       "scipy.sparse.csr.csr_matrix"
      ]
     },
     "execution_count": 20,
     "metadata": {},
     "output_type": "execute_result"
    }
   ],
   "source": [
    "# check the type of bag_of_words\n",
    "type(bag_of_words)"
   ]
  },
  {
   "cell_type": "code",
   "execution_count": null,
   "id": "158abec5",
   "metadata": {},
   "outputs": [],
   "source": []
  }
 ],
 "metadata": {
  "kernelspec": {
   "display_name": "Python 3 (ipykernel)",
   "language": "python",
   "name": "python3"
  },
  "language_info": {
   "codemirror_mode": {
    "name": "ipython",
    "version": 3
   },
   "file_extension": ".py",
   "mimetype": "text/x-python",
   "name": "python",
   "nbconvert_exporter": "python",
   "pygments_lexer": "ipython3",
   "version": "3.8.8"
  }
 },
 "nbformat": 4,
 "nbformat_minor": 5
}
